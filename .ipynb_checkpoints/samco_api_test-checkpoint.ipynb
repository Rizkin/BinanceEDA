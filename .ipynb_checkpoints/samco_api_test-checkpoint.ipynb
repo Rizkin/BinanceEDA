{
 "cells": [
  {
   "cell_type": "code",
   "execution_count": 5,
   "id": "33095864-272f-4e63-b556-f8703b6069f2",
   "metadata": {},
   "outputs": [],
   "source": [
    "import requests\n",
    "import json\n",
    "from datetime import datetime\n",
    "from config.settings import SAMCO_USER_ID, SAMCO_PASSWORD\n",
    "from data.samco_fetch import samco_connect,get_historical_candle_data,get_intraday_candle_data,get_option_chain\n",
    "import os\n"
   ]
  },
  {
   "cell_type": "code",
   "execution_count": 2,
   "id": "daff565c-9353-4d1d-9eb6-03863db6c3ea",
   "metadata": {},
   "outputs": [
    {
     "name": "stdout",
     "output_type": "stream",
     "text": [
      "{'serverTime': '18/01/25 19:32:33', 'msgId': '73e684fe-b0a7-4741-b7e3-87211aa4c31c', 'status': 'Success', 'statusMessage': 'Login session token generated successfully', 'sessionToken': '443e76111633158f06eb240ca8176e31', 'accountID': 'DR59298', 'accountName': 'RIZWAN MOIDUNNI', 'exchangeList': ['NFO', 'NSE', 'MCX', 'CDS', 'BFO', 'BSE'], 'orderTypeList': ['SL-M', 'SL', 'MKT', 'L'], 'productList': ['MIS', 'CNC', 'NRML', 'CO', 'BO']}\n"
     ]
    }
   ],
   "source": [
    "response_dict = samco_connect()\n",
    "session_token = response_dict['sessionToken']\n",
    "print(response_dict)  # just to see the entire response"
   ]
  },
  {
   "cell_type": "code",
   "execution_count": 3,
   "id": "02e15769-a96b-4f64-9adc-b663822cc252",
   "metadata": {},
   "outputs": [
    {
     "name": "stdout",
     "output_type": "stream",
     "text": [
      "443e76111633158f06eb240ca8176e31\n"
     ]
    }
   ],
   "source": [
    "print(session_token)"
   ]
  },
  {
   "cell_type": "code",
   "execution_count": null,
   "id": "28d7c068-c23e-4d9e-8734-1ac72e77d693",
   "metadata": {},
   "outputs": [],
   "source": [
    "optionchain_headers = {\n",
    "  'Accept': 'application/json',\n",
    "  'x-session-token': session_token\n",
    "}\n",
    "\n",
    "r = requests.get(optionchain_link, params={\n",
    "  'searchSymbolName': 'ITC'\n",
    "}, headers = optionchain_headers)\n",
    "\n",
    "print (r.json())"
   ]
  },
  {
   "cell_type": "code",
   "execution_count": null,
   "id": "3a969f6d-a415-43e4-b0a4-0619c9327555",
   "metadata": {},
   "outputs": [],
   "source": [
    "# Historical Candle data for symbol \n",
    "session_token = session_token\n",
    "exchange = 'NSE'\n",
    "symbolName = 'ITC'\n",
    "fromDate = '2024-12-19'\n",
    "\n",
    "# Fetch data without specifying toDate (defaults to today)\n",
    "result = get_historical_candle_data(session_token, exchange, symbolName, fromDate)\n",
    "\n",
    "# Print result\n",
    "print(json.dumps(result, indent=2))\n"
   ]
  },
  {
   "cell_type": "code",
   "execution_count": null,
   "id": "dbe0224d-f6b3-467d-89d8-b9744d6e95a4",
   "metadata": {},
   "outputs": [],
   "source": [
    "# Historical intra Candle data for symbol \n",
    "session_token = session_token\n",
    "exchange = 'NSE'\n",
    "symbolName = 'ITC'\n",
    "fromDate = '2023-10-30 09:00:00'\n",
    "toDate = '2023-10-30 15:30:00'\n",
    "interval='60'\n",
    "\n",
    "# Fetch data without specifying toDate (defaults to today)\n",
    "result = get_intraday_candle_data(session_token,symbolName,fromDate,toDate,exchange,interval)\n",
    "\n",
    "# Print result\n",
    "print(json.dumps(result, indent=2))"
   ]
  },
  {
   "cell_type": "code",
   "execution_count": 13,
   "id": "03cf1a3f-440e-43a6-9e10-108cb90d8a2c",
   "metadata": {},
   "outputs": [
    {
     "name": "stdout",
     "output_type": "stream",
     "text": [
      "Headers: {'Accept': 'application/json', 'x-session-token': '443e76111633158f06eb240ca8176e31'}\n",
      "URL: https://api.stocknote.com/option/optionChain\n",
      "Params: {'searchSymbolName': 'ITC', 'expiryDate': '2025-01-30', 'strikePrice': ('445.00',), 'optionType': 'CE'}\n",
      "Response Status Code: 200\n",
      "{\n",
      "  \"serverTime\": \"18/01/25 19:45:02\",\n",
      "  \"msgId\": \"4b0b291b-0cff-434e-8e2b-8829913aaf14\",\n",
      "  \"status\": \"Success\",\n",
      "  \"statusMessage\": \"OptionChain details retrived successfully. \",\n",
      "  \"optionChainDetails\": [\n",
      "    {\n",
      "      \"tradingSymbol\": \"ITC25JAN445CE\",\n",
      "      \"exchange\": \"NFO\",\n",
      "      \"symbol\": \"96202_NFO\",\n",
      "      \"strikePrice\": \"445.0000\",\n",
      "      \"expiryDate\": \"2025-01-30\",\n",
      "      \"instrument\": \"OPTSTK\",\n",
      "      \"optionType\": \"CE\",\n",
      "      \"underLyingSymbol\": \"ITC\",\n",
      "      \"spotPrice\": \"440.20\",\n",
      "      \"lastTradedPrice\": \"5.00\",\n",
      "      \"openInterest\": \"2350400\",\n",
      "      \"openInterestChange\": \"-152000\",\n",
      "      \"oichangePer\": \"-6.56\",\n",
      "      \"volume\": \"7360000\",\n",
      "      \"bestBids\": [\n",
      "        {\n",
      "          \"number\": \"1\",\n",
      "          \"quantity\": \"3200\",\n",
      "          \"price\": \"4.95\"\n",
      "        },\n",
      "        {\n",
      "          \"number\": \"2\",\n",
      "          \"quantity\": \"4800\",\n",
      "          \"price\": \"4.90\"\n",
      "        },\n",
      "        {\n",
      "          \"number\": \"3\",\n",
      "          \"quantity\": \"6400\",\n",
      "          \"price\": \"4.85\"\n",
      "        },\n",
      "        {\n",
      "          \"number\": \"4\",\n",
      "          \"quantity\": \"6400\",\n",
      "          \"price\": \"4.80\"\n",
      "        },\n",
      "        {\n",
      "          \"number\": \"5\",\n",
      "          \"quantity\": \"4800\",\n",
      "          \"price\": \"4.75\"\n",
      "        }\n",
      "      ],\n",
      "      \"bestAsks\": [\n",
      "        {\n",
      "          \"number\": \"1\",\n",
      "          \"quantity\": \"3200\",\n",
      "          \"price\": \"5.00\"\n",
      "        },\n",
      "        {\n",
      "          \"number\": \"2\",\n",
      "          \"quantity\": \"8000\",\n",
      "          \"price\": \"5.05\"\n",
      "        },\n",
      "        {\n",
      "          \"number\": \"3\",\n",
      "          \"quantity\": \"8000\",\n",
      "          \"price\": \"5.10\"\n",
      "        },\n",
      "        {\n",
      "          \"number\": \"4\",\n",
      "          \"quantity\": \"6400\",\n",
      "          \"price\": \"5.15\"\n",
      "        },\n",
      "        {\n",
      "          \"number\": \"5\",\n",
      "          \"quantity\": \"6400\",\n",
      "          \"price\": \"5.20\"\n",
      "        }\n",
      "      ]\n",
      "    }\n",
      "  ]\n",
      "}\n"
     ]
    }
   ],
   "source": [
    "session_token = session_token\n",
    "exchange = 'NSE'\n",
    "symbolName = 'ITC'\n",
    "expiryDate = \"2025-01-30\" \n",
    "strikePrice=\"445.00\",\n",
    "optionType=\"CE\"\n",
    "\n",
    "# Fetch the Option Chain for TCS\n",
    "result = get_option_chain(session_token,symbolName,expiryDate=expiryDate,optionType=optionType,strikePrice=strikePrice)\n",
    "    \n",
    "# Print the result\n",
    "if result:\n",
    "    print(json.dumps(result, indent=2))\n",
    "else:\n",
    "    print(\"Failed to fetch Option Chain data.\")"
   ]
  },
  {
   "cell_type": "code",
   "execution_count": null,
   "id": "fd4002ff-faf1-44cb-9709-9452af9ff14b",
   "metadata": {},
   "outputs": [],
   "source": []
  }
 ],
 "metadata": {
  "kernelspec": {
   "display_name": "Python 3 (ipykernel)",
   "language": "python",
   "name": "python3"
  },
  "language_info": {
   "codemirror_mode": {
    "name": "ipython",
    "version": 3
   },
   "file_extension": ".py",
   "mimetype": "text/x-python",
   "name": "python",
   "nbconvert_exporter": "python",
   "pygments_lexer": "ipython3",
   "version": "3.9.20"
  }
 },
 "nbformat": 4,
 "nbformat_minor": 5
}
