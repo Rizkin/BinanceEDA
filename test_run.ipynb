{
 "cells": [
  {
   "cell_type": "code",
   "execution_count": 36,
   "id": "2e65a7a0-d790-408d-8709-6af2e6a4b6ae",
   "metadata": {},
   "outputs": [],
   "source": [
    "from connections.client import BinanceClient\n",
    "from config.settings import BINANCE_API_KEY, BINANCE_SECRET_KEY, USE_TESTNET\n",
    "from data.fetch import BinanceDataFetcher,BinanceOptionsFetcher\n",
    "\n",
    "# import importlib\n",
    "# import data.fetch\n",
    "# importlib.reload(data.fetch)"
   ]
  },
  {
   "cell_type": "code",
   "execution_count": 37,
   "id": "ed70b7ec-1a69-41a3-a657-3525fc6c417c",
   "metadata": {},
   "outputs": [
    {
     "name": "stdout",
     "output_type": "stream",
     "text": [
      "API Key: FdEFwUP7BbC4y4GshdHi3SuGaWUTmqABFUSD1J3tySAGxsxGAumA9zaeR5wYI9RVFdEFwUP7BbC4y4GshdHi3SuGaWUTmqABFUSD1J3tySAGxsxGAumA9zaeR5wYI9RV\n",
      "Testnet Mode: True\n",
      "Initialized Binance Client (Testnet: True)\n",
      "Connection successful: {}\n",
      "{}\n"
     ]
    }
   ],
   "source": [
    "# Test settings\n",
    "print(\"API Key:\", BINANCE_API_KEY)\n",
    "print(\"Testnet Mode:\", USE_TESTNET)\n",
    "\n",
    "# Test the BinanceClient\n",
    "client = BinanceClient()\n",
    "print(client.test_connection())\n"
   ]
  },
  {
   "cell_type": "code",
   "execution_count": 38,
   "id": "04929269-5592-41b1-ae17-e48ff7c865bb",
   "metadata": {},
   "outputs": [
    {
     "name": "stdout",
     "output_type": "stream",
     "text": [
      "/home/ec2-user/BinanceEDA\n"
     ]
    }
   ],
   "source": [
    "import os\n",
    "print(os.getcwd())"
   ]
  },
  {
   "cell_type": "code",
   "execution_count": 39,
   "id": "ba963205-0b36-42d1-ba77-af17242d2770",
   "metadata": {},
   "outputs": [
    {
     "name": "stdout",
     "output_type": "stream",
     "text": [
      "['/usr/lib64/python39.zip', '/usr/lib64/python3.9', '/usr/lib64/python3.9/lib-dynload', '', '/home/ec2-user/.local/lib/python3.9/site-packages', '/home/ec2-user/BinanceEDA', '/usr/lib64/python3.9/site-packages', '/usr/lib/python3.9/site-packages']\n"
     ]
    }
   ],
   "source": [
    "import sys\n",
    "print(sys.path)\n"
   ]
  },
  {
   "cell_type": "code",
   "execution_count": 40,
   "id": "7955d157-2b9c-4206-bd9a-4d71ae3f69b0",
   "metadata": {},
   "outputs": [
    {
     "name": "stderr",
     "output_type": "stream",
     "text": [
      "INFO:data.fetch:Fetching historical klines for BTCUSDT with interval 1m and limit 5\n"
     ]
    },
    {
     "name": "stdout",
     "output_type": "stream",
     "text": [
      "Initialized Binance Client (Testnet: True)\n"
     ]
    },
    {
     "name": "stderr",
     "output_type": "stream",
     "text": [
      "INFO:data.fetch:Fetching current price for BTCUSDT\n"
     ]
    },
    {
     "name": "stdout",
     "output_type": "stream",
     "text": [
      "Historical Data: [[1735398720000, '94540.39000000', '94619.63000000', '94520.99000000', '94583.10000000', '0.08868000', 1735398779999, '8386.20336670', 39, '0.07684000', '7267.04493790', '0'], [1735398780000, '94521.02000000', '94602.33000000', '94521.02000000', '94602.33000000', '0.05572000', 1735398839999, '5270.40034880', 23, '0.04942000', '4674.91109780', '0'], [1735398840000, '94602.33000000', '94605.44000000', '94592.51000000', '94605.44000000', '0.06416000', 1735398899999, '6069.47413780', 34, '0.06091000', '5762.04848030', '0'], [1735398900000, '94605.44000000', '94624.90000000', '94592.27000000', '94624.90000000', '0.07306000', 1735398959999, '6912.05136620', 31, '0.04541000', '4296.56896970', '0'], [1735398960000, '94592.27000000', '94624.90000000', '94592.27000000', '94624.90000000', '0.00146000', 1735399019999, '138.11776620', 2, '0.00040000', '37.84996000', '0']]\n"
     ]
    },
    {
     "name": "stderr",
     "output_type": "stream",
     "text": [
      "INFO:data.fetch:Fetching recent trades for BTCUSDT with limit 5\n"
     ]
    },
    {
     "name": "stdout",
     "output_type": "stream",
     "text": [
      "Current Price: 94608.63000000\n",
      "Recent Trades: [{'id': 5844910, 'price': '94624.89000000', 'qty': '0.00158000', 'quoteQty': '149.50732620', 'time': 1735398959509, 'isBuyerMaker': False, 'isBestMatch': True}, {'id': 5844911, 'price': '94624.90000000', 'qty': '0.00186000', 'quoteQty': '176.00231400', 'time': 1735398959509, 'isBuyerMaker': False, 'isBestMatch': True}, {'id': 5844912, 'price': '94592.27000000', 'qty': '0.00106000', 'quoteQty': '100.26780620', 'time': 1735398963153, 'isBuyerMaker': True, 'isBestMatch': True}, {'id': 5844913, 'price': '94624.90000000', 'qty': '0.00040000', 'quoteQty': '37.84996000', 'time': 1735398963415, 'isBuyerMaker': False, 'isBestMatch': True}, {'id': 5844914, 'price': '94608.63000000', 'qty': '0.00423000', 'quoteQty': '400.19450490', 'time': 1735398974412, 'isBuyerMaker': False, 'isBestMatch': True}]\n"
     ]
    }
   ],
   "source": [
    "\n",
    "\n",
    "# Initialize the data fetcher\n",
    "data_fetcher = BinanceDataFetcher()\n",
    "\n",
    "# Fetch historical candlestick data\n",
    "historical_data = data_fetcher.get_historical_klines(limit=5)\n",
    "print(\"Historical Data:\", historical_data)\n",
    "\n",
    "# Fetch current market price\n",
    "current_price = data_fetcher.get_current_price()\n",
    "print(\"Current Price:\", current_price)\n",
    "\n",
    "# Fetch recent trades\n",
    "recent_trades = data_fetcher.get_recent_trades(limit=5)\n",
    "print(\"Recent Trades:\", recent_trades)\n"
   ]
  },
  {
   "cell_type": "code",
   "execution_count": 42,
   "id": "76d46418-7e91-4f17-8b3f-e30ed71830e0",
   "metadata": {},
   "outputs": [],
   "source": [
    "# Initialize the options fetcher\n",
    "options_fetcher = BinanceOptionsFetcher(api_key=BINANCE_API_KEY, api_secret=BINANCE_SECRET_KEY)\n",
    "\n",
    "# Define the option symbol\n",
    "option_symbol = \"BTC-250328-90000-P\"  # Replace with a valid symbol if necessary\n",
    "\n"
   ]
  },
  {
   "cell_type": "code",
   "execution_count": 45,
   "id": "d321a33d-fbed-46ba-8954-a02ce79cada3",
   "metadata": {},
   "outputs": [
    {
     "name": "stderr",
     "output_type": "stream",
     "text": [
      "INFO:data.fetch:Making GET request to https://vapi.binance.com/vapi/v1/optionInfo with params: {'symbol': 'BTC-250328-90000-P'}\n"
     ]
    },
    {
     "name": "stdout",
     "output_type": "stream",
     "text": [
      "Fetching option info for BTC-250328-90000-P...\n"
     ]
    },
    {
     "name": "stderr",
     "output_type": "stream",
     "text": [
      "ERROR:data.fetch:Request failed: Expecting value: line 1 column 1 (char 0)\n",
      "ERROR:data.fetch:Error fetching option info for BTC-250328-90000-P: Request failed: Expecting value: line 1 column 1 (char 0)\n"
     ]
    },
    {
     "name": "stdout",
     "output_type": "stream",
     "text": [
      "Error fetching option info: Request failed: Expecting value: line 1 column 1 (char 0)\n"
     ]
    }
   ],
   "source": [
    "# Fetch and print option info\n",
    "print(f\"Fetching option info for {option_symbol}...\")\n",
    "\n",
    "try:\n",
    "    option_info = options_fetcher.get_option_info(option_symbol)\n",
    "    print(\"Option Info Retrieved Successfully:\")\n",
    "    print(option_info)\n",
    "except Exception as e:\n",
    "    print(f\"Error fetching option info: {e}\")\n"
   ]
  },
  {
   "cell_type": "code",
   "execution_count": null,
   "id": "ba0ec8a3-3760-45e5-8d46-285bbd094560",
   "metadata": {},
   "outputs": [],
   "source": []
  }
 ],
 "metadata": {
  "kernelspec": {
   "display_name": "Python 3 (ipykernel)",
   "language": "python",
   "name": "python3"
  },
  "language_info": {
   "codemirror_mode": {
    "name": "ipython",
    "version": 3
   },
   "file_extension": ".py",
   "mimetype": "text/x-python",
   "name": "python",
   "nbconvert_exporter": "python",
   "pygments_lexer": "ipython3",
   "version": "3.9.20"
  }
 },
 "nbformat": 4,
 "nbformat_minor": 5
}
